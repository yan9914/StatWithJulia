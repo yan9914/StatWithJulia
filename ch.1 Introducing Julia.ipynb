{
 "cells": [
  {
   "cell_type": "code",
   "execution_count": 1,
   "metadata": {},
   "outputs": [
    {
     "data": {
      "text/plain": [
       "8-element Array{Int64,1}:\n",
       "   9\n",
       "  16\n",
       "  25\n",
       "  36\n",
       "  49\n",
       "  64\n",
       "  81\n",
       " 100"
      ]
     },
     "execution_count": 1,
     "metadata": {},
     "output_type": "execute_result"
    }
   ],
   "source": [
    "# 泛式定義陣列\n",
    "[x^2 for x in 3:10]"
   ]
  },
  {
   "cell_type": "code",
   "execution_count": 7,
   "metadata": {},
   "outputs": [
    {
     "name": "stdout",
     "output_type": "stream",
     "text": [
      "98% of the means lie in the estimated range: (0.4699226996426578, 0.5298858888983439)\n",
      "  5.745822 seconds (10.00 M allocations: 7.974 GiB, 6.35% gc time)\n"
     ]
    }
   ],
   "source": [
    "# 慢版的程式\n",
    "# 運用 @time 巨集語法計算runtime\n",
    "\n",
    "# 計算500個隨機值的平均, 重複1e6次, 並計算包含98%樣本的區間\n",
    "using Statistics    # 載入套件\n",
    "@time begin\n",
    "    data = Float64[]\n",
    "    for i in 1:1e6\n",
    "        group = Float64[]\n",
    "        for j in 1:5e2\n",
    "            push!(group, rand())\n",
    "        end\n",
    "        push!(data, mean(group))\n",
    "    end\n",
    "    println(\"98% of the means lie in the estimated range: \", (quantile(data,0.01), quantile(data,0.99)))\n",
    "end"
   ]
  },
  {
   "cell_type": "code",
   "execution_count": 26,
   "metadata": {
    "scrolled": true
   },
   "outputs": [
    {
     "name": "stdout",
     "output_type": "stream",
     "text": [
      "98% of the means lie in the estimated range: (0.4699329311009187, 0.5300571919021461)\n",
      "  1.044655 seconds (1.07 M allocations: 3.900 GiB, 14.74% gc time)\n"
     ]
    }
   ],
   "source": [
    "# 快版的程式\n",
    "# 上面的程式浪費了太多記憶體空間, 導致程式較慢\n",
    "\n",
    "using Statistics\n",
    "@time begin\n",
    "    data = [mean(rand(500)) for _ in 1:1e6]\n",
    "    println(\"98% of the means lie in the estimated range: \", (quantile(data,0.01), quantile(data,0.99)))\n",
    "end"
   ]
  },
  {
   "cell_type": "code",
   "execution_count": 6,
   "metadata": {},
   "outputs": [
    {
     "name": "stdout",
     "output_type": "stream",
     "text": [
      "data = [1, 12, 23, 32, 51, 65, 68, 84]\n",
      "內建函數: data = [1, 12, 23, 32, 51, 65, 68, 84]\n"
     ]
    }
   ],
   "source": [
    "# Bubble sort\n",
    "function bubbleSort!(a)       # 驚嘆號代表會改變a的內容\n",
    "    n = length(a)\n",
    "    for i in 1:n-1\n",
    "        for j in 1:n-i\n",
    "            if a[j] > a[j+1]\n",
    "                a[j], a[j+1] = a[j+1], a[j]   # 賦值是同步進行的\n",
    "            end\n",
    "        end\n",
    "    end\n",
    "    return a\n",
    "end\n",
    "\n",
    "data = [65, 51, 32, 12, 23, 84, 68, 1]\n",
    "bubbleSort!(data)\n",
    "println(\"data = \", data)                      # In julia, arrays are passed by reference\n",
    "\n",
    "data = [65, 51, 32, 12, 23, 84, 68, 1]\n",
    "println(\"內建函數: data = \", sort(data))      # 除了sort(), 也有sort!()函數可供選擇"
   ]
  },
  {
   "cell_type": "code",
   "execution_count": 7,
   "metadata": {},
   "outputs": [
    {
     "name": "stderr",
     "output_type": "stream",
     "text": [
      "┌ Info: Precompiling Roots [f2b01f46-fcfa-551c-844a-d8ac1e96c665]\n",
      "└ @ Base loading.jl:1186\n"
     ]
    },
    {
     "name": "stdout",
     "output_type": "stream",
     "text": [
      "Zero of the function f(x): [-0.2, 0.5]\n"
     ]
    }
   ],
   "source": [
    "# Roots of a polynomial\n",
    "\n",
    "# f(x) = -10x^2 + 3x + 1\n",
    "using Roots\n",
    "\n",
    "function polynomialGenerator(a...)            # 輸入係數, 回傳簡單的多項式\n",
    "    n = length(a) - 1\n",
    "    poly = (x) -> sum([a[i+1]*x^i for i in 0:n])\n",
    "    return poly\n",
    "end\n",
    "\n",
    "polynomial = polynomialGenerator(1, 3, -10)\n",
    "zeroVals = find_zeros(polynomial, -10, 10)    # 在(-10, 10)之間找根\n",
    "println(\"Zero of the function f(x): \", zeroVals)"
   ]
  },
  {
   "cell_type": "code",
   "execution_count": 52,
   "metadata": {},
   "outputs": [
    {
     "name": "stdout",
     "output_type": "stream",
     "text": [
      "方法一: [0.4375, 0.3125, 0.25]\n",
      "方法二: [0.4375; 0.3125; 0.25]\n",
      "方法三: [0.4375, 0.3125, 0.25]\n",
      "方法四: [0.438017, 0.312044, 0.249939]\n"
     ]
    }
   ],
   "source": [
    "# Steady state of a Markov chain in several ways\n",
    "using LinearAlgebra, StatsBase\n",
    "\n",
    "# Transition probability matrix\n",
    "P = [0.5 0.3 0.5;\n",
    "     0.4 0.2 0.3;\n",
    "     0.1 0.5 0.2]\n",
    "\n",
    "# First way\n",
    "piProb1 = (P^100)[:,1]\n",
    "println(\"方法一: \", piProb1)\n",
    "\n",
    "# Second way\n",
    "A = vcat((P-I)[1:2,:], transpose(ones(3)))\n",
    "b = transpose([0 0 1])\n",
    "piProb2 = A\\b\n",
    "println(\"方法二: \", piProb2)\n",
    "\n",
    "# Third way\n",
    "eigVecs = eigvecs(P)\n",
    "highestVec = eigVecs[:, findmax(abs.(eigvals(P)))[2]]\n",
    "piProb3 = Array{Float64}(highestVec/norm(highestVec, 1))\n",
    "println(\"方法三: \", piProb3)\n",
    "\n",
    "# Fourth way\n",
    "numInState = zeros(3)\n",
    "state = 1\n",
    "N = 10^6\n",
    "for t in 1:N\n",
    "    numInState[state] += 1\n",
    "    global state = sample(1:3, weights(P[:,state]))\n",
    "end\n",
    "piProb4 = numInState/N\n",
    "println(\"方法四: \", piProb4)"
   ]
  },
  {
   "cell_type": "code",
   "execution_count": null,
   "metadata": {},
   "outputs": [],
   "source": []
  }
 ],
 "metadata": {
  "kernelspec": {
   "display_name": "Julia 1.1.0",
   "language": "julia",
   "name": "julia-1.1"
  },
  "language_info": {
   "file_extension": ".jl",
   "mimetype": "application/julia",
   "name": "julia",
   "version": "1.1.0"
  }
 },
 "nbformat": 4,
 "nbformat_minor": 2
}
